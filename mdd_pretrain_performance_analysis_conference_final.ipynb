{
 "cells": [
  {
   "cell_type": "code",
   "execution_count": 1,
   "id": "a278ecb5-5467-43c8-a3bf-7a1cbba4842a",
   "metadata": {},
   "outputs": [
    {
     "name": "stderr",
     "output_type": "stream",
     "text": [
      "Using TensorFlow backend.\n"
     ]
    }
   ],
   "source": [
    "# Deep Learning Libraries\n",
    "\n",
    "from functools import partial\n",
    "import keras as keras\n",
    "import tensorflow as tf\n",
    "from keras.models import Sequential\n",
    "from keras.layers import Input, Conv1D, MaxPooling1D, Flatten, GlobalMaxPool1D, GlobalAveragePooling1D, Dense, Dropout, BatchNormalization, Activation, concatenate, SpatialDropout1D, TimeDistributed, Layer\n",
    "from keras.utils import to_categorical\n",
    "from keras import optimizers, losses, activations, models\n",
    "from keras.callbacks import ModelCheckpoint,EarlyStopping,ReduceLROnPlateau\n",
    "\n",
    "import numpy as np\n",
    "import pandas as pd\n",
    "from keras import backend as K\n",
    "from sklearn.model_selection import GroupShuffleSplit\n",
    "from functools import partial\n",
    "from keras.callbacks import *\n",
    "from sklearn.utils import class_weight\n",
    "import matplotlib.pyplot as plt\n",
    "from mpl_toolkits.axes_grid1 import make_axes_locatable\n",
    "from sklearn.metrics import accuracy_score, recall_score, balanced_accuracy_score\n",
    "\n",
    "import sklearn\n",
    "from sklearn.metrics import confusion_matrix\n",
    "\n",
    "# General Libraries\n",
    "from scipy.io import loadmat, savemat\n",
    "from scipy.fft import fft, fftfreq, ifft\n",
    "import h5py\n",
    "import os\n",
    "\n",
    "# Statistics Libraries\n",
    "import statsmodels.api as sm\n",
    "from statsmodels.stats.multitest import fdrcorrection\n",
    "from scipy.stats import ttest_rel, mannwhitneyu"
   ]
  },
  {
   "cell_type": "markdown",
   "id": "c415e141-c44b-4482-95f1-96134bf0c5be",
   "metadata": {},
   "source": [
    "# Load Performance Results"
   ]
  },
  {
   "cell_type": "code",
   "execution_count": 2,
   "id": "f1728da1-969a-4f6b-be7f-ac3f20f0b7c0",
   "metadata": {},
   "outputs": [],
   "source": [
    "# Load Sleep Model Performance Results\n",
    "sleep_filename = \"/home/users/cellis42/Spectral_Explainability/PreTraining/Journal/sleep_model.mat\"\n",
    "sleep_f1_ind = loadmat(sleep_filename,appendmat=True)['f1_ind']"
   ]
  },
  {
   "cell_type": "code",
   "execution_count": 3,
   "id": "0c31067e-6efa-48b4-a39c-727f92acd6f7",
   "metadata": {},
   "outputs": [],
   "source": [
    "# MDD Model A - Baseline MDD Model\n",
    "# MDD Model B - Pretrained MDD Model with Tuned Dense Layers Only\n",
    "# MDD Model C - Pretrained MDD Model With Tuning of Whole Model B\n",
    "# MDD Model D - Pretrained MDD Model Whole Model Tuning"
   ]
  },
  {
   "cell_type": "code",
   "execution_count": 3,
   "id": "21506abb-7270-40e7-9dc9-2b2cb9ef1ad2",
   "metadata": {},
   "outputs": [],
   "source": [
    "# Load MDD Model A Performance Results\n",
    "mdd_a_filename = \"/home/users/cellis42/Spectral_Explainability/PreTraining/Journal/model_a_25_seed3.mat\"\n",
    "\n",
    "mdd_a_testing_metrics = loadmat(mdd_a_filename,appendmat=True)['testing_metrics']\n",
    "\n",
    "mdd_a_bacc = mdd_a_testing_metrics[:,3]\n",
    "mdd_a_sens = mdd_a_testing_metrics[:,1]\n",
    "mdd_a_spec = mdd_a_testing_metrics[:,2]"
   ]
  },
  {
   "cell_type": "code",
   "execution_count": 4,
   "id": "d4be67e8-f7c0-45f1-acf5-751e8d68ce5b",
   "metadata": {},
   "outputs": [],
   "source": [
    "# Load Pretrained MDD Model B Performance Results\n",
    "mdd_b_filename = \"/home/users/cellis42/Spectral_Explainability/PreTraining/Journal/model_b_25_seed3.mat\"\n",
    "mdd_b_testing_metrics = loadmat(mdd_b_filename,appendmat=True)['testing_metrics_all']\n",
    "\n",
    "mdd_b_bacc = mdd_b_testing_metrics[...,3]\n",
    "mdd_b_sens = mdd_b_testing_metrics[...,1]\n",
    "mdd_b_spec = mdd_b_testing_metrics[...,2]"
   ]
  },
  {
   "cell_type": "code",
   "execution_count": 5,
   "id": "e638b5de-e1e8-48b0-9a82-e42ad1c4fd21",
   "metadata": {},
   "outputs": [],
   "source": [
    "# Load Pretrained MDD Model C Performance Results\n",
    "mdd_c_filename = \"/home/users/cellis42/Spectral_Explainability/PreTraining/Journal/model_c_25_seed3.mat\"\n",
    "mdd_c_testing_metrics = loadmat(mdd_c_filename,appendmat=True)['testing_metrics_all']\n",
    "\n",
    "mdd_c_bacc = mdd_c_testing_metrics[...,3]\n",
    "mdd_c_sens = mdd_c_testing_metrics[...,1]\n",
    "mdd_c_spec = mdd_c_testing_metrics[...,2]"
   ]
  },
  {
   "cell_type": "code",
   "execution_count": 6,
   "id": "68290e6b-b8cd-44c8-af94-d2ad7d66074c",
   "metadata": {},
   "outputs": [],
   "source": [
    "# Load MDD Model D Performance Results\n",
    "mdd_d_filename = \"/home/users/cellis42/Spectral_Explainability/PreTraining/Journal/model_d_25_seed3.mat\"\n",
    "mdd_d_testing_metrics = loadmat(mdd_d_filename,appendmat=True)['testing_metrics_all']\n",
    "\n",
    "mdd_d_bacc = mdd_d_testing_metrics[...,3]\n",
    "mdd_d_sens = mdd_d_testing_metrics[...,1]\n",
    "mdd_d_spec = mdd_d_testing_metrics[...,2]"
   ]
  },
  {
   "cell_type": "code",
   "execution_count": 7,
   "id": "3a97b222-5fa7-4839-ac7f-c71e957fd3d9",
   "metadata": {},
   "outputs": [
    {
     "name": "stdout",
     "output_type": "stream",
     "text": [
      "BACC\n",
      "0.8357 (0.8722) + 0.1513\n",
      "0.86 (0.8884) + 0.1379\n",
      "0.8716 (0.9055) + 0.134\n",
      "0.8568 (0.8855) + 0.1389\n",
      "SENS\n",
      "0.9111 (1.0) + 0.1444\n",
      "0.8863 (0.9718) + 0.1629\n",
      "0.9101 (0.9743) + 0.1298\n",
      "0.8825 (0.966) + 0.1627\n",
      "SPEC\n",
      "0.7603 (0.9485) + 0.3172\n",
      "0.8336 (0.9901) + 0.2474\n",
      "0.833 (0.9915) + 0.2571\n",
      "0.8311 (0.9889) + 0.2489\n"
     ]
    }
   ],
   "source": [
    "print('BACC')\n",
    "print(str(np.round(np.mean(mdd_a_bacc),4)) + ' (' +str(np.round(np.median(mdd_a_bacc),4))  + ') + ' + str(np.round(np.std(mdd_a_bacc),4)))\n",
    "print(str(np.round(np.mean(mdd_b_bacc),4)) + ' (' +str(np.round(np.median(mdd_b_bacc),4))  + ') + ' + str(np.round(np.std(mdd_b_bacc),4)))\n",
    "print(str(np.round(np.mean(mdd_c_bacc),4)) + ' (' +str(np.round(np.median(mdd_c_bacc),4))  + ') + ' + str(np.round(np.std(mdd_c_bacc),4)))\n",
    "print(str(np.round(np.mean(mdd_d_bacc),4)) + ' (' +str(np.round(np.median(mdd_d_bacc),4))  + ') + ' + str(np.round(np.std(mdd_d_bacc),4)))\n",
    "\n",
    "print('SENS')\n",
    "print(str(np.round(np.mean(mdd_a_sens),4)) + ' (' +str(np.round(np.median(mdd_a_sens),4))  + ') + ' + str(np.round(np.std(mdd_a_sens),4)))\n",
    "print(str(np.round(np.mean(mdd_b_sens),4)) + ' (' +str(np.round(np.median(mdd_b_sens),4))  + ') + ' + str(np.round(np.std(mdd_b_sens),4)))\n",
    "print(str(np.round(np.mean(mdd_c_sens),4)) + ' (' +str(np.round(np.median(mdd_c_sens),4))  + ') + ' + str(np.round(np.std(mdd_c_sens),4)))\n",
    "print(str(np.round(np.mean(mdd_d_sens),4)) + ' (' +str(np.round(np.median(mdd_d_sens),4))  + ') + ' + str(np.round(np.std(mdd_d_sens),4)))\n",
    "\n",
    "print('SPEC')\n",
    "print(str(np.round(np.mean(mdd_a_spec),4)) + ' (' +str(np.round(np.median(mdd_a_spec),4))  + ') + ' + str(np.round(np.std(mdd_a_spec),4)))\n",
    "print(str(np.round(np.mean(mdd_b_spec),4)) + ' (' +str(np.round(np.median(mdd_b_spec),4))  + ') + ' + str(np.round(np.std(mdd_b_spec),4)))\n",
    "print(str(np.round(np.mean(mdd_c_spec),4)) + ' (' +str(np.round(np.median(mdd_c_spec),4))  + ') + ' + str(np.round(np.std(mdd_c_spec),4)))\n",
    "print(str(np.round(np.mean(mdd_d_spec),4)) + ' (' +str(np.round(np.median(mdd_d_spec),4))  + ') + ' + str(np.round(np.std(mdd_d_spec),4)))"
   ]
  },
  {
   "cell_type": "markdown",
   "id": "04c7dc04-5c0a-472e-b178-ff02cce74803",
   "metadata": {},
   "source": [
    "# Comparison of Models A Through D - All Values"
   ]
  },
  {
   "cell_type": "code",
   "execution_count": 9,
   "id": "d27dbe9f-d8cb-43f2-a0c8-8763c76658dc",
   "metadata": {},
   "outputs": [],
   "source": [
    "# Duplicate MDD Model A Performance\n",
    "mdd_a_bacc_duplicate = np.repeat(np.expand_dims(np.squeeze(mdd_a_bacc),axis=1),10,axis=1)\n",
    "mdd_a_sens_duplicate = np.repeat(np.expand_dims(np.squeeze(mdd_a_sens),axis=1),10,axis=1)\n",
    "mdd_a_spec_duplicate = np.repeat(np.expand_dims(np.squeeze(mdd_a_spec),axis=1),10,axis=1)"
   ]
  },
  {
   "cell_type": "code",
   "execution_count": 10,
   "id": "1301376f-4c17-49ce-b16f-ccddf8b70409",
   "metadata": {},
   "outputs": [],
   "source": [
    "# Concatenaste Performance Results\n",
    "bacc_vals = np.array([np.ndarray.flatten(mdd_a_bacc_duplicate), np.ndarray.flatten(mdd_b_bacc),\n",
    "             np.ndarray.flatten(mdd_c_bacc),np.ndarray.flatten(mdd_d_bacc)])\n",
    "\n",
    "sens_vals = np.array([np.ndarray.flatten(mdd_a_sens_duplicate), np.ndarray.flatten(mdd_b_sens),\n",
    "             np.ndarray.flatten(mdd_c_sens),np.ndarray.flatten(mdd_d_sens)])\n",
    "\n",
    "spec_vals = np.array([np.ndarray.flatten(mdd_a_spec_duplicate), np.ndarray.flatten(mdd_b_spec),\n",
    "             np.ndarray.flatten(mdd_c_spec),np.ndarray.flatten(mdd_d_spec)])\n",
    "\n",
    "\n",
    "p_vals_bacc = np.ones((4,4)); t_stat_bacc = np.zeros((4,4)); #p_vals_u = np.ones((4,4));\n",
    "p_vals_sens = np.ones((4,4)); t_stat_sens = np.zeros((4,4)); #p_vals_u = np.ones((4,4));\n",
    "p_vals_spec = np.ones((4,4)); t_stat_spec = np.zeros((4,4)); #p_vals_u = np.ones((4,4));\n",
    "\n",
    "for i in range(4):\n",
    "    for j in range(4):\n",
    "        if i > j:\n",
    "            t_stat_bacc[i,j], p_vals_bacc[i,j] = ttest_rel(bacc_vals[i,:],bacc_vals[j,:])\n",
    "            t_stat_sens[i,j], p_vals_sens[i,j] = ttest_rel(sens_vals[i,:],sens_vals[j,:])\n",
    "            t_stat_spec[i,j], p_vals_spec[i,j] = ttest_rel(spec_vals[i,:],spec_vals[j,:])"
   ]
  },
  {
   "cell_type": "code",
   "execution_count": 11,
   "id": "ee9292eb-a3f1-4ff5-8a6a-49219a0f5712",
   "metadata": {
    "tags": []
   },
   "outputs": [
    {
     "data": {
      "text/html": [
       "<div>\n",
       "<style scoped>\n",
       "    .dataframe tbody tr th:only-of-type {\n",
       "        vertical-align: middle;\n",
       "    }\n",
       "\n",
       "    .dataframe tbody tr th {\n",
       "        vertical-align: top;\n",
       "    }\n",
       "\n",
       "    .dataframe thead th {\n",
       "        text-align: right;\n",
       "    }\n",
       "</style>\n",
       "<table border=\"1\" class=\"dataframe\">\n",
       "  <thead>\n",
       "    <tr style=\"text-align: right;\">\n",
       "      <th></th>\n",
       "      <th>-A</th>\n",
       "      <th>-B</th>\n",
       "      <th>-C</th>\n",
       "      <th>-D</th>\n",
       "    </tr>\n",
       "  </thead>\n",
       "  <tbody>\n",
       "    <tr>\n",
       "      <th>A</th>\n",
       "      <td>0.000000</td>\n",
       "      <td>0.000000</td>\n",
       "      <td>0.000000</td>\n",
       "      <td>0.0</td>\n",
       "    </tr>\n",
       "    <tr>\n",
       "      <th>B</th>\n",
       "      <td>1.947357</td>\n",
       "      <td>0.000000</td>\n",
       "      <td>0.000000</td>\n",
       "      <td>0.0</td>\n",
       "    </tr>\n",
       "    <tr>\n",
       "      <th>C</th>\n",
       "      <td>2.951017</td>\n",
       "      <td>2.811955</td>\n",
       "      <td>0.000000</td>\n",
       "      <td>0.0</td>\n",
       "    </tr>\n",
       "    <tr>\n",
       "      <th>D</th>\n",
       "      <td>1.679509</td>\n",
       "      <td>-2.025590</td>\n",
       "      <td>-3.502721</td>\n",
       "      <td>0.0</td>\n",
       "    </tr>\n",
       "  </tbody>\n",
       "</table>\n",
       "</div>"
      ],
      "text/plain": [
       "         -A        -B        -C   -D\n",
       "A  0.000000  0.000000  0.000000  0.0\n",
       "B  1.947357  0.000000  0.000000  0.0\n",
       "C  2.951017  2.811955  0.000000  0.0\n",
       "D  1.679509 -2.025590 -3.502721  0.0"
      ]
     },
     "execution_count": 11,
     "metadata": {},
     "output_type": "execute_result"
    }
   ],
   "source": [
    "pd.DataFrame(t_stat_bacc,index=['A','B','C','D'],columns=['-A','-B','-C','-D'])"
   ]
  },
  {
   "cell_type": "code",
   "execution_count": 12,
   "id": "35fe1cdf-d0c8-4106-9e0e-7ae73061da3e",
   "metadata": {},
   "outputs": [
    {
     "data": {
      "text/html": [
       "<div>\n",
       "<style scoped>\n",
       "    .dataframe tbody tr th:only-of-type {\n",
       "        vertical-align: middle;\n",
       "    }\n",
       "\n",
       "    .dataframe tbody tr th {\n",
       "        vertical-align: top;\n",
       "    }\n",
       "\n",
       "    .dataframe thead th {\n",
       "        text-align: right;\n",
       "    }\n",
       "</style>\n",
       "<table border=\"1\" class=\"dataframe\">\n",
       "  <thead>\n",
       "    <tr style=\"text-align: right;\">\n",
       "      <th></th>\n",
       "      <th>-A</th>\n",
       "      <th>-B</th>\n",
       "      <th>-C</th>\n",
       "      <th>-D</th>\n",
       "    </tr>\n",
       "  </thead>\n",
       "  <tbody>\n",
       "    <tr>\n",
       "      <th>A</th>\n",
       "      <td>1.000000</td>\n",
       "      <td>1.000000</td>\n",
       "      <td>1.000000</td>\n",
       "      <td>1.0</td>\n",
       "    </tr>\n",
       "    <tr>\n",
       "      <th>B</th>\n",
       "      <td>0.052616</td>\n",
       "      <td>1.000000</td>\n",
       "      <td>1.000000</td>\n",
       "      <td>1.0</td>\n",
       "    </tr>\n",
       "    <tr>\n",
       "      <th>C</th>\n",
       "      <td>0.003469</td>\n",
       "      <td>0.005316</td>\n",
       "      <td>1.000000</td>\n",
       "      <td>1.0</td>\n",
       "    </tr>\n",
       "    <tr>\n",
       "      <th>D</th>\n",
       "      <td>0.094307</td>\n",
       "      <td>0.043873</td>\n",
       "      <td>0.000546</td>\n",
       "      <td>1.0</td>\n",
       "    </tr>\n",
       "  </tbody>\n",
       "</table>\n",
       "</div>"
      ],
      "text/plain": [
       "         -A        -B        -C   -D\n",
       "A  1.000000  1.000000  1.000000  1.0\n",
       "B  0.052616  1.000000  1.000000  1.0\n",
       "C  0.003469  0.005316  1.000000  1.0\n",
       "D  0.094307  0.043873  0.000546  1.0"
      ]
     },
     "execution_count": 12,
     "metadata": {},
     "output_type": "execute_result"
    }
   ],
   "source": [
    "pd.DataFrame(p_vals_bacc,index=['A','B','C','D'],columns=['-A','-B','-C','-D'])"
   ]
  },
  {
   "cell_type": "code",
   "execution_count": 14,
   "id": "315eedde-8be5-452c-9864-566fc253781d",
   "metadata": {},
   "outputs": [],
   "source": [
    "p_vals_bacc_reshaped = []; p_vals_sens_reshaped = []; p_vals_spec_reshaped = [];\n",
    "for row in range(1,np.shape(p_vals_bacc)[1]):\n",
    "    for col in range(0,row):\n",
    "        p_vals_bacc_reshaped.append(p_vals_bacc[row,col])\n",
    "        p_vals_sens_reshaped.append(p_vals_sens[row,col])\n",
    "        p_vals_spec_reshaped.append(p_vals_spec[row,col])"
   ]
  },
  {
   "cell_type": "code",
   "execution_count": 17,
   "id": "7c9da442-2d2d-4121-aaf2-009b1d5ae386",
   "metadata": {},
   "outputs": [],
   "source": [
    "p_vals_bacc_reshaped_corrected = fdrcorrection(p_vals_bacc_reshaped)[1]; p_vals_bacc_corrected = np.ones_like(p_vals_bacc)\n",
    "p_vals_sens_reshaped_corrected = fdrcorrection(p_vals_sens_reshaped)[1]; p_vals_sens_corrected = np.ones_like(p_vals_sens)\n",
    "p_vals_spec_reshaped_corrected = fdrcorrection(p_vals_spec_reshaped)[1]; p_vals_spec_corrected = np.ones_like(p_vals_spec)\n",
    "\n",
    "\n",
    "idx = 0\n",
    "for row in range(1,np.shape(p_vals_bacc)[1]):\n",
    "    for col in range(0,row):\n",
    "        p_vals_bacc_corrected[row,col] = p_vals_bacc_reshaped_corrected[idx]\n",
    "        p_vals_sens_corrected[row,col] = p_vals_sens_reshaped_corrected[idx]\n",
    "        p_vals_spec_corrected[row,col] = p_vals_spec_reshaped_corrected[idx]\n",
    "\n",
    "        idx += 1"
   ]
  },
  {
   "cell_type": "code",
   "execution_count": 42,
   "id": "a5d032dd-eb5d-4259-84b5-e06e2bbed6d4",
   "metadata": {},
   "outputs": [
    {
     "data": {
      "text/html": [
       "<div>\n",
       "<style scoped>\n",
       "    .dataframe tbody tr th:only-of-type {\n",
       "        vertical-align: middle;\n",
       "    }\n",
       "\n",
       "    .dataframe tbody tr th {\n",
       "        vertical-align: top;\n",
       "    }\n",
       "\n",
       "    .dataframe thead th {\n",
       "        text-align: right;\n",
       "    }\n",
       "</style>\n",
       "<table border=\"1\" class=\"dataframe\">\n",
       "  <thead>\n",
       "    <tr style=\"text-align: right;\">\n",
       "      <th></th>\n",
       "      <th>-A</th>\n",
       "      <th>-B</th>\n",
       "      <th>-C</th>\n",
       "      <th>-D</th>\n",
       "    </tr>\n",
       "  </thead>\n",
       "  <tbody>\n",
       "    <tr>\n",
       "      <th>A</th>\n",
       "      <td>1.000000</td>\n",
       "      <td>1.000000</td>\n",
       "      <td>1.000000</td>\n",
       "      <td>1.0</td>\n",
       "    </tr>\n",
       "    <tr>\n",
       "      <th>B</th>\n",
       "      <td>0.063139</td>\n",
       "      <td>1.000000</td>\n",
       "      <td>1.000000</td>\n",
       "      <td>1.0</td>\n",
       "    </tr>\n",
       "    <tr>\n",
       "      <th>C</th>\n",
       "      <td>0.010408</td>\n",
       "      <td>0.010633</td>\n",
       "      <td>1.000000</td>\n",
       "      <td>1.0</td>\n",
       "    </tr>\n",
       "    <tr>\n",
       "      <th>D</th>\n",
       "      <td>0.094307</td>\n",
       "      <td>0.063139</td>\n",
       "      <td>0.003275</td>\n",
       "      <td>1.0</td>\n",
       "    </tr>\n",
       "  </tbody>\n",
       "</table>\n",
       "</div>"
      ],
      "text/plain": [
       "         -A        -B        -C   -D\n",
       "A  1.000000  1.000000  1.000000  1.0\n",
       "B  0.063139  1.000000  1.000000  1.0\n",
       "C  0.010408  0.010633  1.000000  1.0\n",
       "D  0.094307  0.063139  0.003275  1.0"
      ]
     },
     "execution_count": 42,
     "metadata": {},
     "output_type": "execute_result"
    }
   ],
   "source": [
    "pd.DataFrame(p_vals_bacc_corrected,index=['A','B','C','D'],columns=['-A','-B','-C','-D'])"
   ]
  },
  {
   "cell_type": "code",
   "execution_count": 57,
   "id": "ffa805d0-bb98-4dad-a1cd-c92aa9fad30b",
   "metadata": {},
   "outputs": [
    {
     "data": {
      "image/png": "[encoded data removed]",
      "text/plain": [
       "<Figure size 720x360 with 4 Axes>"
      ]
     },
     "metadata": {
      "needs_background": "light"
     },
     "output_type": "display_data"
    }
   ],
   "source": [
    "fig, ax = plt.subplots(1,3,figsize=(10,5))\n",
    "for idx in range(3):\n",
    "    if idx == 0:\n",
    "        t_stat = t_stat_bacc.copy()\n",
    "        p_vals_corrected = p_vals_bacc_corrected.copy()\n",
    "        title_val = 'BACC '\n",
    "    elif idx == 1:\n",
    "        t_stat = t_stat_sens.copy()\n",
    "        p_vals_corrected = p_vals_sens_corrected.copy()\n",
    "        title_val = 'SENS '\n",
    "    elif idx == 2:\n",
    "        t_stat = t_stat_spec.copy()\n",
    "        p_vals_corrected = p_vals_spec_corrected.copy()\n",
    "        title_val = 'SPEC '\n",
    "\n",
    "    max_val = np.max(np.absolute(np.concatenate((t_stat_bacc,t_stat_sens,t_stat_spec))))\n",
    "    \n",
    "    t_stat2 = t_stat.copy()\n",
    "    for i in range(4):\n",
    "        for j in range(4):\n",
    "            if t_stat[i,j] == 0:\n",
    "                t_stat2[i,j] = np.nan\n",
    "    im = ax[idx].imshow(t_stat,cmap='bwr',vmin = -1*max_val,vmax=max_val)\n",
    "    ax[idx].set_yticks(np.arange(4))\n",
    "    ax[idx].set_yticklabels(['A','B','C','D'],weight='bold',fontsize=14)\n",
    "    ax[idx].set_xticks(np.arange(4))\n",
    "    ax[idx].set_xticklabels(['- A','- B','- C','- D'],weight='bold',fontsize=14)\n",
    "    ax[idx].set_title(title_val + 'Analysis',weight='bold',fontsize=16)\n",
    "    for i in range(4):\n",
    "        for j in range(4):\n",
    "            if p_vals_corrected[i,j] < 0.05:\n",
    "                ax[idx].text(j,i+0.07,'*',color='w',weight='bold',fontsize=25,verticalalignment='center',horizontalalignment='center')\n",
    "\n",
    "fig.subplots_adjust(right=0.8)\n",
    "cbar_ax = fig.add_axes([.82, 0.32, 0.04, 0.37]) # left bottom width height\n",
    "cb = fig.colorbar(im, cax=cbar_ax);\n",
    "cb.set_label(label='T-Statistics',weight='bold')\n",
    "plt.setp(cb.ax.get_yticklabels(),weight='bold');\n",
    "\n",
    "plt.savefig('/home/users/cellis42/Spectral_Explainability/PreTraining/BHI2023/Performance_Testing_seed3.png')"
   ]
  }
 ],
 "metadata": {
  "kernelspec": {
   "display_name": "Python 3",
   "language": "python",
   "name": "python3"
  },
  "language_info": {
   "codemirror_mode": {
    "name": "ipython",
    "version": 3
   },
   "file_extension": ".py",
   "mimetype": "text/x-python",
   "name": "python",
   "nbconvert_exporter": "python",
   "pygments_lexer": "ipython3",
   "version": "3.7.7"
  }
 },
 "nbformat": 4,
 "nbformat_minor": 5
}
